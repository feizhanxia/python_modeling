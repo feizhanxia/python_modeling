{
 "cells": [
  {
   "cell_type": "code",
   "execution_count": 6,
   "id": "0a04f41d",
   "metadata": {},
   "outputs": [
    {
     "name": "stdout",
     "output_type": "stream",
     "text": [
      "样本数: 59\n",
      "测试集大小:59\n",
      "测试集应小于于样本，请再次输入:59\n",
      "测试集应小于于样本，请再次输入:60\n",
      "测试集应小于于样本，请再次输入:5\n"
     ]
    }
   ],
   "source": [
    "import numpy as np\n",
    "from PCR import PCR\n",
    "data = np.loadtxt('alldata.txt')\n",
    "print(\"样本数:\",data.shape[1])\n",
    "testNum = int(input(\"测试集大小:\"))\n",
    "while testNum>=data.shape[1]:\n",
    "    testNum=int(input(\"测试集应小于于样本，请再次输入:\"))\n",
    "X = data[:-1].T\n",
    "Y = data[-1]\n",
    "trainX = X[:-testNum]\n",
    "trainY = Y[:-testNum]\n",
    "testX = X[-testNum:]\n",
    "testY = Y[-testNum:]\n",
    "pcr = PCR(trainX,trainY)\n",
    "compare = pcr.confirmPCs()\n",
    "print(\"训练集大小:\",X.shape[0]-testNum,\"\\n特征值:\",compare)\n",
    "k = 1\n",
    "for val in compare[1:]:\n",
    "    if val >= 2:\n",
    "        k+=1\n",
    "    else:\n",
    "        break\n",
    "print(\"特征值>1, 确定主成分数:\",k)\n",
    "pcr.fit(k)\n",
    "yHat = pcr.predict(testX)\n",
    "err = (testY-yHat)/testY*100\n",
    "print(\"测试集大小:\", testNum, \", 误差（百分之）:\",err)"
   ]
  }
 ],
 "metadata": {
  "kernelspec": {
   "display_name": "Python 3 (ipykernel)",
   "language": "python",
   "name": "python3"
  },
  "language_info": {
   "codemirror_mode": {
    "name": "ipython",
    "version": 3
   },
   "file_extension": ".py",
   "mimetype": "text/x-python",
   "name": "python",
   "nbconvert_exporter": "python",
   "pygments_lexer": "ipython3",
   "version": "3.9.13"
  }
 },
 "nbformat": 4,
 "nbformat_minor": 5
}
