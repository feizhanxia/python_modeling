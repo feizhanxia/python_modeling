{
 "cells": [
  {
   "cell_type": "code",
   "execution_count": 76,
   "id": "ee814853",
   "metadata": {},
   "outputs": [],
   "source": [
    "import numpy as np\n",
    "from sklearn.cross_decomposition import PLSRegression\n",
    "from sklearn.model_selection import KFold\n",
    "import matplotlib.pyplot as plt"
   ]
  },
  {
   "cell_type": "code",
   "execution_count": 77,
   "id": "f9b64d04",
   "metadata": {},
   "outputs": [],
   "source": [
    "def cvPLS(X, Y, n, k):\n",
    "    kf = KFold(n_splits=k)\n",
    "    yTrue = None\n",
    "    yHat = None\n",
    "    pls = PLSRegression(n_components=n)  # 取n个独立变量\n",
    "    for trainIndex, testIndex in kf.split(X):\n",
    "        Xtrain, Xtest = X[trainIndex], X[testIndex]\n",
    "        Ytrain, Ytest = Y[trainIndex], Y[testIndex]\n",
    "        pls.fit(Xtrain, Ytrain)\n",
    "        ypred = pls.predict(Xtest)\n",
    "        if yTrue is None:\n",
    "            yTrue = Ytest\n",
    "            yHat = ypred\n",
    "        else:\n",
    "            yTrue = np.r_[yTrue, Ytest]\n",
    "            yHat = np.r_[yHat, ypred]\n",
    "    err = np.sum(np.abs(yTrue - yHat) / np.abs(yTrue)) / len(X)\n",
    "    return err"
   ]
  },
  {
   "cell_type": "code",
   "execution_count": 78,
   "id": "f99856b8",
   "metadata": {},
   "outputs": [],
   "source": [
    "X=np.loadtxt(r\"X-PI.txt\")\n",
    "Y=np.loadtxt(r\"Y-PI.txt\")"
   ]
  },
  {
   "cell_type": "code",
   "execution_count": 97,
   "id": "1abb7070",
   "metadata": {},
   "outputs": [
    {
     "data": {
      "text/plain": [
       "[<matplotlib.lines.Line2D at 0x16a4d0d00>]"
      ]
     },
     "execution_count": 97,
     "metadata": {},
     "output_type": "execute_result"
    },
    {
     "data": {
      "image/png": "[encoded data removed]",
      "text/plain": [
       "<Figure size 640x480 with 1 Axes>"
      ]
     },
     "metadata": {},
     "output_type": "display_data"
    }
   ],
   "source": [
    "kk = 3\n",
    "maxPCs = min((X.shape[0]-X.shape[0]//kk-1,X.shape[1]))\n",
    "errs = []\n",
    "for i in range(1, maxPCs):\n",
    "    errs.append(cvPLS(X, Y, i, kk))\n",
    "\n",
    "plt.plot(errs)\n"
   ]
  },
  {
   "cell_type": "code",
   "execution_count": 95,
   "id": "0a0d9d0e",
   "metadata": {},
   "outputs": [
    {
     "name": "stdout",
     "output_type": "stream",
     "text": [
      "[ 6  7  8  9 10 11 12 13 14 15 16 17 18 19 20 21 22 23 24 25 26 27] [0 1 2 3 4 5]\n",
      "[ 0  1  2  3  4  5 12 13 14 15 16 17 18 19 20 21 22 23 24 25 26 27] [ 6  7  8  9 10 11]\n",
      "[ 0  1  2  3  4  5  6  7  8  9 10 11 18 19 20 21 22 23 24 25 26 27] [12 13 14 15 16 17]\n",
      "[ 0  1  2  3  4  5  6  7  8  9 10 11 12 13 14 15 16 17 23 24 25 26 27] [18 19 20 21 22]\n",
      "[ 0  1  2  3  4  5  6  7  8  9 10 11 12 13 14 15 16 17 18 19 20 21 22] [23 24 25 26 27]\n"
     ]
    }
   ],
   "source": [
    "kf = KFold(n_splits=5)\n",
    "for trainIndex, testIndex in kf.split(X):\n",
    "    print(trainIndex, testIndex)"
   ]
  },
  {
   "cell_type": "code",
   "execution_count": 98,
   "id": "c2b57005",
   "metadata": {},
   "outputs": [],
   "source": [
    "from PCR import PCR"
   ]
  },
  {
   "cell_type": "code",
   "execution_count": null,
   "id": "5e79dcd9",
   "metadata": {},
   "outputs": [],
   "source": [
    "def cvPCR(X, Y, n, k):\n",
    "    kf = KFold(n_splits=k)\n",
    "    yTrue = None\n",
    "    yHat = None\n",
    "    pls = PLSRegression(n_components=n)  # 取 n 个独立变量\n",
    "    for trainIndex, testIndex in kf.split(X):\n",
    "        Xtrain, Xtest = X[trainIndex], X[testIndex]\n",
    "        Ytrain, Ytest = Y[trainIndex], Y[testIndex]\n",
    "        pcr = PCR(trainX, trainY)\n",
    "        pcr.confirmPCs()\n",
    "        pcr.fit(n)\n",
    "        ypred = pcr.predict(Xtest)\n",
    "        if yTrue is None:\n",
    "            yTrue = Ytest\n",
    "            yHat = ypred\n",
    "        else:\n",
    "            yTrue = np.r_[yTrue, Ytest]\n",
    "            yHat = np.r_[yHat, ypred]\n",
    "    err = np.sum(np.abs(yTrue - yHat) / np.abs(yTrue)) / len(X)\n",
    "    return err"
   ]
  }
 ],
 "metadata": {
  "kernelspec": {
   "display_name": "Python 3 (ipykernel)",
   "language": "python",
   "name": "python3"
  },
  "language_info": {
   "codemirror_mode": {
    "name": "ipython",
    "version": 3
   },
   "file_extension": ".py",
   "mimetype": "text/x-python",
   "name": "python",
   "nbconvert_exporter": "python",
   "pygments_lexer": "ipython3",
   "version": "3.9.13"
  }
 },
 "nbformat": 4,
 "nbformat_minor": 5
}
